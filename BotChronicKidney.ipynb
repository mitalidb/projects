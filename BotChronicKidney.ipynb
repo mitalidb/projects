{
  "nbformat": 4,
  "nbformat_minor": 0,
  "metadata": {
    "colab": {
      "name": "BotChronicKidney.ipynb",
      "provenance": [],
      "authorship_tag": "ABX9TyO8EZimn6pv6P5K5/Jkw4Op",
      "include_colab_link": true
    },
    "kernelspec": {
      "name": "python3",
      "display_name": "Python 3"
    }
  },
  "cells": [
    {
      "cell_type": "markdown",
      "metadata": {
        "id": "view-in-github",
        "colab_type": "text"
      },
      "source": [
        "<a href=\"https://colab.research.google.com/github/mitalidb/projects/blob/master/BotChronicKidney.ipynb\" target=\"_parent\"><img src=\"https://colab.research.google.com/assets/colab-badge.svg\" alt=\"Open In Colab\"/></a>"
      ]
    },
    {
      "cell_type": "code",
      "metadata": {
        "id": "O79Tl5WV7rUn",
        "colab_type": "code",
        "outputId": "4d01b23f-764f-4454-c98c-e6f525a6ec69",
        "colab": {
          "base_uri": "https://localhost:8080/",
          "height": 836
        }
      },
      "source": [
        "pip install newspaper3k"
      ],
      "execution_count": 1,
      "outputs": [
        {
          "output_type": "stream",
          "text": [
            "Collecting newspaper3k\n",
            "\u001b[?25l  Downloading https://files.pythonhosted.org/packages/d7/b9/51afecb35bb61b188a4b44868001de348a0e8134b4dfa00ffc191567c4b9/newspaper3k-0.2.8-py3-none-any.whl (211kB)\n",
            "\r\u001b[K     |█▌                              | 10kB 18.5MB/s eta 0:00:01\r\u001b[K     |███                             | 20kB 1.7MB/s eta 0:00:01\r\u001b[K     |████▋                           | 30kB 2.3MB/s eta 0:00:01\r\u001b[K     |██████▏                         | 40kB 2.6MB/s eta 0:00:01\r\u001b[K     |███████▊                        | 51kB 2.0MB/s eta 0:00:01\r\u001b[K     |█████████▎                      | 61kB 2.3MB/s eta 0:00:01\r\u001b[K     |██████████▉                     | 71kB 2.6MB/s eta 0:00:01\r\u001b[K     |████████████▍                   | 81kB 2.8MB/s eta 0:00:01\r\u001b[K     |██████████████                  | 92kB 3.0MB/s eta 0:00:01\r\u001b[K     |███████████████▌                | 102kB 2.8MB/s eta 0:00:01\r\u001b[K     |█████████████████               | 112kB 2.8MB/s eta 0:00:01\r\u001b[K     |██████████████████▋             | 122kB 2.8MB/s eta 0:00:01\r\u001b[K     |████████████████████▏           | 133kB 2.8MB/s eta 0:00:01\r\u001b[K     |█████████████████████▊          | 143kB 2.8MB/s eta 0:00:01\r\u001b[K     |███████████████████████▎        | 153kB 2.8MB/s eta 0:00:01\r\u001b[K     |████████████████████████▉       | 163kB 2.8MB/s eta 0:00:01\r\u001b[K     |██████████████████████████▍     | 174kB 2.8MB/s eta 0:00:01\r\u001b[K     |████████████████████████████    | 184kB 2.8MB/s eta 0:00:01\r\u001b[K     |█████████████████████████████▌  | 194kB 2.8MB/s eta 0:00:01\r\u001b[K     |███████████████████████████████ | 204kB 2.8MB/s eta 0:00:01\r\u001b[K     |████████████████████████████████| 215kB 2.8MB/s \n",
            "\u001b[?25hRequirement already satisfied: nltk>=3.2.1 in /usr/local/lib/python3.6/dist-packages (from newspaper3k) (3.2.5)\n",
            "Requirement already satisfied: beautifulsoup4>=4.4.1 in /usr/local/lib/python3.6/dist-packages (from newspaper3k) (4.6.3)\n",
            "Collecting tinysegmenter==0.3\n",
            "  Downloading https://files.pythonhosted.org/packages/17/82/86982e4b6d16e4febc79c2a1d68ee3b707e8a020c5d2bc4af8052d0f136a/tinysegmenter-0.3.tar.gz\n",
            "Collecting feedfinder2>=0.0.4\n",
            "  Downloading https://files.pythonhosted.org/packages/35/82/1251fefec3bb4b03fd966c7e7f7a41c9fc2bb00d823a34c13f847fd61406/feedfinder2-0.0.4.tar.gz\n",
            "Requirement already satisfied: Pillow>=3.3.0 in /usr/local/lib/python3.6/dist-packages (from newspaper3k) (7.0.0)\n",
            "Collecting cssselect>=0.9.2\n",
            "  Downloading https://files.pythonhosted.org/packages/3b/d4/3b5c17f00cce85b9a1e6f91096e1cc8e8ede2e1be8e96b87ce1ed09e92c5/cssselect-1.1.0-py2.py3-none-any.whl\n",
            "Collecting jieba3k>=0.35.1\n",
            "\u001b[?25l  Downloading https://files.pythonhosted.org/packages/a9/cb/2c8332bcdc14d33b0bedd18ae0a4981a069c3513e445120da3c3f23a8aaa/jieba3k-0.35.1.zip (7.4MB)\n",
            "\u001b[K     |████████████████████████████████| 7.4MB 8.6MB/s \n",
            "\u001b[?25hRequirement already satisfied: lxml>=3.6.0 in /usr/local/lib/python3.6/dist-packages (from newspaper3k) (4.2.6)\n",
            "Collecting feedparser>=5.2.1\n",
            "\u001b[?25l  Downloading https://files.pythonhosted.org/packages/91/d8/7d37fec71ff7c9dbcdd80d2b48bcdd86d6af502156fc93846fb0102cb2c4/feedparser-5.2.1.tar.bz2 (192kB)\n",
            "\u001b[K     |████████████████████████████████| 194kB 43.9MB/s \n",
            "\u001b[?25hRequirement already satisfied: python-dateutil>=2.5.3 in /usr/local/lib/python3.6/dist-packages (from newspaper3k) (2.8.1)\n",
            "Requirement already satisfied: PyYAML>=3.11 in /usr/local/lib/python3.6/dist-packages (from newspaper3k) (3.13)\n",
            "Requirement already satisfied: requests>=2.10.0 in /usr/local/lib/python3.6/dist-packages (from newspaper3k) (2.21.0)\n",
            "Collecting tldextract>=2.0.1\n",
            "\u001b[?25l  Downloading https://files.pythonhosted.org/packages/fd/0e/9ab599d6e78f0340bb1d1e28ddeacb38c8bb7f91a1b0eae9a24e9603782f/tldextract-2.2.2-py2.py3-none-any.whl (48kB)\n",
            "\u001b[K     |████████████████████████████████| 51kB 7.3MB/s \n",
            "\u001b[?25hRequirement already satisfied: six in /usr/local/lib/python3.6/dist-packages (from nltk>=3.2.1->newspaper3k) (1.12.0)\n",
            "Requirement already satisfied: certifi>=2017.4.17 in /usr/local/lib/python3.6/dist-packages (from requests>=2.10.0->newspaper3k) (2020.4.5.1)\n",
            "Requirement already satisfied: urllib3<1.25,>=1.21.1 in /usr/local/lib/python3.6/dist-packages (from requests>=2.10.0->newspaper3k) (1.24.3)\n",
            "Requirement already satisfied: idna<2.9,>=2.5 in /usr/local/lib/python3.6/dist-packages (from requests>=2.10.0->newspaper3k) (2.8)\n",
            "Requirement already satisfied: chardet<3.1.0,>=3.0.2 in /usr/local/lib/python3.6/dist-packages (from requests>=2.10.0->newspaper3k) (3.0.4)\n",
            "Requirement already satisfied: setuptools in /usr/local/lib/python3.6/dist-packages (from tldextract>=2.0.1->newspaper3k) (46.1.3)\n",
            "Collecting requests-file>=1.4\n",
            "  Downloading https://files.pythonhosted.org/packages/77/86/cdb5e8eaed90796aa83a6d9f75cfbd37af553c47a291cd47bc410ef9bdb2/requests_file-1.5.1-py2.py3-none-any.whl\n",
            "Building wheels for collected packages: tinysegmenter, feedfinder2, jieba3k, feedparser\n",
            "  Building wheel for tinysegmenter (setup.py) ... \u001b[?25l\u001b[?25hdone\n",
            "  Created wheel for tinysegmenter: filename=tinysegmenter-0.3-cp36-none-any.whl size=13539 sha256=784f2963230d99d233dc2624973452c3ab9034c7f34cec9e113e2ac560cdbc6a\n",
            "  Stored in directory: /root/.cache/pip/wheels/81/2b/43/a02ede72324dd40cdd7ca53aad718c7710628e91b8b0dc0f02\n",
            "  Building wheel for feedfinder2 (setup.py) ... \u001b[?25l\u001b[?25hdone\n",
            "  Created wheel for feedfinder2: filename=feedfinder2-0.0.4-cp36-none-any.whl size=3357 sha256=84997dc8b1b78c54194753ba600de8ef007b6fa0bcc87bb0893313393c2e2fac\n",
            "  Stored in directory: /root/.cache/pip/wheels/de/03/ca/778e3a7a627e3d98836cc890e7cb40c7575424cfd3340f40ed\n",
            "  Building wheel for jieba3k (setup.py) ... \u001b[?25l\u001b[?25hdone\n",
            "  Created wheel for jieba3k: filename=jieba3k-0.35.1-cp36-none-any.whl size=7398406 sha256=728395b2fc133129fa161935d2a48bb59f2b66f2787101990df688c0fa54be1f\n",
            "  Stored in directory: /root/.cache/pip/wheels/83/15/9c/a3f1f67e7f7181170ad37d32e503c35da20627c013f438ed34\n",
            "  Building wheel for feedparser (setup.py) ... \u001b[?25l\u001b[?25hdone\n",
            "  Created wheel for feedparser: filename=feedparser-5.2.1-cp36-none-any.whl size=44940 sha256=68b34934cd65dc1fd34654425e0385fd9ca02bdf8542f4c36a68bbb3455a4ab3\n",
            "  Stored in directory: /root/.cache/pip/wheels/8c/69/b7/f52763c41c5471df57703a0ef718a32a5e81ee35dcf6d4f97f\n",
            "Successfully built tinysegmenter feedfinder2 jieba3k feedparser\n",
            "Installing collected packages: tinysegmenter, feedfinder2, cssselect, jieba3k, feedparser, requests-file, tldextract, newspaper3k\n",
            "Successfully installed cssselect-1.1.0 feedfinder2-0.0.4 feedparser-5.2.1 jieba3k-0.35.1 newspaper3k-0.2.8 requests-file-1.5.1 tinysegmenter-0.3 tldextract-2.2.2\n"
          ],
          "name": "stdout"
        }
      ]
    },
    {
      "cell_type": "code",
      "metadata": {
        "id": "2o286pew7b16",
        "colab_type": "code",
        "colab": {}
      },
      "source": [
        "import pandas as pd\n",
        "import numpy as np\n",
        "import re\n",
        "import string\n",
        "import nltk\n",
        "import warnings\n",
        "from newspaper import Article\n",
        "import random\n",
        "from sklearn.feature_extraction.text import TfidfVectorizer\n",
        "from sklearn.metrics.pairwise import cosine_similarity"
      ],
      "execution_count": 0,
      "outputs": []
    },
    {
      "cell_type": "code",
      "metadata": {
        "id": "3W37lAGc8Jqq",
        "colab_type": "code",
        "colab": {}
      },
      "source": [
        "warnings.filterwarnings('ignore')"
      ],
      "execution_count": 0,
      "outputs": []
    },
    {
      "cell_type": "code",
      "metadata": {
        "id": "QzvsJPH98md9",
        "colab_type": "code",
        "outputId": "e1e728fd-14b9-4a61-d7f3-d42b2c13a1b6",
        "colab": {
          "base_uri": "https://localhost:8080/",
          "height": 33
        }
      },
      "source": [
        "nltk.download('wordnet',quiet= True)\n",
        "nltk.download('punkt', quiet= True)"
      ],
      "execution_count": 4,
      "outputs": [
        {
          "output_type": "execute_result",
          "data": {
            "text/plain": [
              "True"
            ]
          },
          "metadata": {
            "tags": []
          },
          "execution_count": 4
        }
      ]
    },
    {
      "cell_type": "code",
      "metadata": {
        "id": "ZL7Ro1oF8vlJ",
        "colab_type": "code",
        "outputId": "db744064-67ce-4298-c402-daedcdd0870d",
        "colab": {
          "base_uri": "https://localhost:8080/",
          "height": 1000
        }
      },
      "source": [
        "#Get the Articcle URL\n",
        "article=Article('https://www.mayoclinic.org/diseases-conditions/chronic-kidney-disease/symptoms-causes/syc-20354521')\n",
        "article.download()\n",
        "article.parse()\n",
        "article.nlp()\n",
        "corpus= article.text\n",
        "\n",
        "#Print the corpus\n",
        "print(corpus)"
      ],
      "execution_count": 5,
      "outputs": [
        {
          "output_type": "stream",
          "text": [
            "Overview\n",
            "\n",
            "Chronic kidney disease, also called chronic kidney failure, describes the gradual loss of kidney function. Your kidneys filter wastes and excess fluids from your blood, which are then excreted in your urine. When chronic kidney disease reaches an advanced stage, dangerous levels of fluid, electrolytes and wastes can build up in your body.\n",
            "\n",
            "In the early stages of chronic kidney disease, you may have few signs or symptoms. Chronic kidney disease may not become apparent until your kidney function is significantly impaired.\n",
            "\n",
            "Treatment for chronic kidney disease focuses on slowing the progression of the kidney damage, usually by controlling the underlying cause. Chronic kidney disease can progress to end-stage kidney failure, which is fatal without artificial filtering (dialysis) or a kidney transplant.\n",
            "\n",
            "Chronic kidney disease care at Mayo Clinic\n",
            "\n",
            "How kidneys work\n",
            "\n",
            "Symptoms\n",
            "\n",
            "Signs and symptoms of chronic kidney disease develop over time if kidney damage progresses slowly. Signs and symptoms of kidney disease may include:\n",
            "\n",
            "Nausea\n",
            "\n",
            "Vomiting\n",
            "\n",
            "Loss of appetite\n",
            "\n",
            "Fatigue and weakness\n",
            "\n",
            "Sleep problems\n",
            "\n",
            "Changes in how much you urinate\n",
            "\n",
            "Decreased mental sharpness\n",
            "\n",
            "Muscle twitches and cramps\n",
            "\n",
            "Swelling of feet and ankles\n",
            "\n",
            "Persistent itching\n",
            "\n",
            "Chest pain, if fluid builds up around the lining of the heart\n",
            "\n",
            "Shortness of breath, if fluid builds up in the lungs\n",
            "\n",
            "High blood pressure (hypertension) that's difficult to control\n",
            "\n",
            "Signs and symptoms of kidney disease are often nonspecific, meaning they can also be caused by other illnesses. Because your kidneys are highly adaptable and able to compensate for lost function, signs and symptoms may not appear until irreversible damage has occurred.\n",
            "\n",
            "When to see a doctor\n",
            "\n",
            "Make an appointment with your doctor if you have any signs or symptoms of kidney disease.\n",
            "\n",
            "If you have a medical condition that increases your risk of kidney disease, your doctor is likely to monitor your blood pressure and kidney function with urine and blood tests during regular office visits. Ask your doctor whether these tests are necessary for you.\n",
            "\n",
            "Causes\n",
            "\n",
            "Normal kidney vs. diseased kidney Open pop-up dialog box Close Normal kidney vs. diseased kidney Normal kidney vs. diseased kidney A normal kidney has about 1 million filtering units. Each unit, called a glomerulus, connects to a tubule, which collects urine. Conditions such as high blood pressure and diabetes take a toll on kidney function by damaging these filtering units and collecting tubules and causing scarring.\n",
            "\n",
            "Polycystic kidney Open pop-up dialog box Close Polycystic kidney Polycystic kidney A healthy kidney (left) eliminates waste from the blood and maintains the body's normal chemical balance. Fluid-filled sacs (right), called cysts, characterize polycystic kidney disease.\n",
            "\n",
            "Chronic kidney disease occurs when a disease or condition impairs kidney function, causing kidney damage to worsen over several months or years.\n",
            "\n",
            "Diseases and conditions that cause chronic kidney disease include:\n",
            "\n",
            "Type 1 or type 2 diabetes\n",
            "\n",
            "High blood pressure\n",
            "\n",
            "Glomerulonephritis (gloe-mer-u-low-nuh-FRY-tis), an inflammation of the kidney's filtering units (glomeruli)\n",
            "\n",
            "Interstitial nephritis (in-tur-STISH-ul nuh-FRY-tis), an inflammation of the kidney's tubules and surrounding structures\n",
            "\n",
            "Polycystic kidney disease\n",
            "\n",
            "Prolonged obstruction of the urinary tract, from conditions such as enlarged prostate, kidney stones and some cancers\n",
            "\n",
            "Vesicoureteral (ves-ih-koe-yoo-REE-tur-ul) reflux, a condition that causes urine to back up into your kidneys\n",
            "\n",
            "Recurrent kidney infection, also called pyelonephritis (pie-uh-low-nuh-FRY-tis)\n",
            "\n",
            "Risk factors\n",
            "\n",
            "Factors that may increase your risk of chronic kidney disease include:\n",
            "\n",
            "Diabetes\n",
            "\n",
            "High blood pressure\n",
            "\n",
            "Heart and blood vessel (cardiovascular) disease\n",
            "\n",
            "Smoking\n",
            "\n",
            "Obesity\n",
            "\n",
            "Being African-American, Native American or Asian-American\n",
            "\n",
            "Family history of kidney disease\n",
            "\n",
            "Abnormal kidney structure\n",
            "\n",
            "Older age\n",
            "\n",
            "Complications\n",
            "\n",
            "Chronic kidney disease can affect almost every part of your body. Potential complications may include:\n",
            "\n",
            "Fluid retention, which could lead to swelling in your arms and legs, high blood pressure, or fluid in your lungs (pulmonary edema)\n",
            "\n",
            "A sudden rise in potassium levels in your blood (hyperkalemia), which could impair your heart's ability to function and may be life-threatening\n",
            "\n",
            "Heart and blood vessel (cardiovascular) disease\n",
            "\n",
            "Weak bones and an increased risk of bone fractures\n",
            "\n",
            "Anemia\n",
            "\n",
            "Decreased sex drive, erectile dysfunction or reduced fertility\n",
            "\n",
            "Damage to your central nervous system, which can cause difficulty concentrating, personality changes or seizures\n",
            "\n",
            "Decreased immune response, which makes you more vulnerable to infection\n",
            "\n",
            "Pericarditis, an inflammation of the saclike membrane that envelops your heart (pericardium)\n",
            "\n",
            "Pregnancy complications that carry risks for the mother and the developing fetus\n",
            "\n",
            "Irreversible damage to your kidneys (end-stage kidney disease), eventually requiring either dialysis or a kidney transplant for survival\n",
            "\n",
            "Prevention\n",
            "\n",
            "To reduce your risk of developing kidney disease:\n"
          ],
          "name": "stdout"
        }
      ]
    },
    {
      "cell_type": "code",
      "metadata": {
        "id": "3F8rnsrq90yr",
        "colab_type": "code",
        "outputId": "182ebf3c-cf9c-4cf6-ddb4-c93b0e9feef8",
        "colab": {
          "base_uri": "https://localhost:8080/",
          "height": 53
        }
      },
      "source": [
        "#Tokenization\n",
        "text= corpus\n",
        "sent_token= nltk.sent_tokenize(text) #convert text into  list of sentence\n",
        "#print the sentence\n",
        "print(sent_token) "
      ],
      "execution_count": 6,
      "outputs": [
        {
          "output_type": "stream",
          "text": [
            "['Overview\\n\\nChronic kidney disease, also called chronic kidney failure, describes the gradual loss of kidney function.', 'Your kidneys filter wastes and excess fluids from your blood, which are then excreted in your urine.', 'When chronic kidney disease reaches an advanced stage, dangerous levels of fluid, electrolytes and wastes can build up in your body.', 'In the early stages of chronic kidney disease, you may have few signs or symptoms.', 'Chronic kidney disease may not become apparent until your kidney function is significantly impaired.', 'Treatment for chronic kidney disease focuses on slowing the progression of the kidney damage, usually by controlling the underlying cause.', 'Chronic kidney disease can progress to end-stage kidney failure, which is fatal without artificial filtering (dialysis) or a kidney transplant.', 'Chronic kidney disease care at Mayo Clinic\\n\\nHow kidneys work\\n\\nSymptoms\\n\\nSigns and symptoms of chronic kidney disease develop over time if kidney damage progresses slowly.', \"Signs and symptoms of kidney disease may include:\\n\\nNausea\\n\\nVomiting\\n\\nLoss of appetite\\n\\nFatigue and weakness\\n\\nSleep problems\\n\\nChanges in how much you urinate\\n\\nDecreased mental sharpness\\n\\nMuscle twitches and cramps\\n\\nSwelling of feet and ankles\\n\\nPersistent itching\\n\\nChest pain, if fluid builds up around the lining of the heart\\n\\nShortness of breath, if fluid builds up in the lungs\\n\\nHigh blood pressure (hypertension) that's difficult to control\\n\\nSigns and symptoms of kidney disease are often nonspecific, meaning they can also be caused by other illnesses.\", 'Because your kidneys are highly adaptable and able to compensate for lost function, signs and symptoms may not appear until irreversible damage has occurred.', 'When to see a doctor\\n\\nMake an appointment with your doctor if you have any signs or symptoms of kidney disease.', 'If you have a medical condition that increases your risk of kidney disease, your doctor is likely to monitor your blood pressure and kidney function with urine and blood tests during regular office visits.', 'Ask your doctor whether these tests are necessary for you.', 'Causes\\n\\nNormal kidney vs. diseased kidney Open pop-up dialog box Close Normal kidney vs. diseased kidney Normal kidney vs. diseased kidney A normal kidney has about 1 million filtering units.', 'Each unit, called a glomerulus, connects to a tubule, which collects urine.', 'Conditions such as high blood pressure and diabetes take a toll on kidney function by damaging these filtering units and collecting tubules and causing scarring.', \"Polycystic kidney Open pop-up dialog box Close Polycystic kidney Polycystic kidney A healthy kidney (left) eliminates waste from the blood and maintains the body's normal chemical balance.\", 'Fluid-filled sacs (right), called cysts, characterize polycystic kidney disease.', 'Chronic kidney disease occurs when a disease or condition impairs kidney function, causing kidney damage to worsen over several months or years.', \"Diseases and conditions that cause chronic kidney disease include:\\n\\nType 1 or type 2 diabetes\\n\\nHigh blood pressure\\n\\nGlomerulonephritis (gloe-mer-u-low-nuh-FRY-tis), an inflammation of the kidney's filtering units (glomeruli)\\n\\nInterstitial nephritis (in-tur-STISH-ul nuh-FRY-tis), an inflammation of the kidney's tubules and surrounding structures\\n\\nPolycystic kidney disease\\n\\nProlonged obstruction of the urinary tract, from conditions such as enlarged prostate, kidney stones and some cancers\\n\\nVesicoureteral (ves-ih-koe-yoo-REE-tur-ul) reflux, a condition that causes urine to back up into your kidneys\\n\\nRecurrent kidney infection, also called pyelonephritis (pie-uh-low-nuh-FRY-tis)\\n\\nRisk factors\\n\\nFactors that may increase your risk of chronic kidney disease include:\\n\\nDiabetes\\n\\nHigh blood pressure\\n\\nHeart and blood vessel (cardiovascular) disease\\n\\nSmoking\\n\\nObesity\\n\\nBeing African-American, Native American or Asian-American\\n\\nFamily history of kidney disease\\n\\nAbnormal kidney structure\\n\\nOlder age\\n\\nComplications\\n\\nChronic kidney disease can affect almost every part of your body.\", \"Potential complications may include:\\n\\nFluid retention, which could lead to swelling in your arms and legs, high blood pressure, or fluid in your lungs (pulmonary edema)\\n\\nA sudden rise in potassium levels in your blood (hyperkalemia), which could impair your heart's ability to function and may be life-threatening\\n\\nHeart and blood vessel (cardiovascular) disease\\n\\nWeak bones and an increased risk of bone fractures\\n\\nAnemia\\n\\nDecreased sex drive, erectile dysfunction or reduced fertility\\n\\nDamage to your central nervous system, which can cause difficulty concentrating, personality changes or seizures\\n\\nDecreased immune response, which makes you more vulnerable to infection\\n\\nPericarditis, an inflammation of the saclike membrane that envelops your heart (pericardium)\\n\\nPregnancy complications that carry risks for the mother and the developing fetus\\n\\nIrreversible damage to your kidneys (end-stage kidney disease), eventually requiring either dialysis or a kidney transplant for survival\\n\\nPrevention\\n\\nTo reduce your risk of developing kidney disease:\"]\n"
          ],
          "name": "stdout"
        }
      ]
    },
    {
      "cell_type": "code",
      "metadata": {
        "id": "ZyA3iWhQ-SDe",
        "colab_type": "code",
        "outputId": "e4019ed0-bbe1-4ebb-8d72-bdd00adac149",
        "colab": {
          "base_uri": "https://localhost:8080/",
          "height": 70
        }
      },
      "source": [
        "#create a dict(key value pair) to remove punct\n",
        "remove_punct_dict= dict(   (ord(punct),None) for punct in string.punctuation)\n",
        "\n",
        "print(string.punctuation)\n",
        "#print the dic\n",
        "print(remove_punct_dict)"
      ],
      "execution_count": 7,
      "outputs": [
        {
          "output_type": "stream",
          "text": [
            "!\"#$%&'()*+,-./:;<=>?@[\\]^_`{|}~\n",
            "{33: None, 34: None, 35: None, 36: None, 37: None, 38: None, 39: None, 40: None, 41: None, 42: None, 43: None, 44: None, 45: None, 46: None, 47: None, 58: None, 59: None, 60: None, 61: None, 62: None, 63: None, 64: None, 91: None, 92: None, 93: None, 94: None, 95: None, 96: None, 123: None, 124: None, 125: None, 126: None}\n"
          ],
          "name": "stdout"
        }
      ]
    },
    {
      "cell_type": "code",
      "metadata": {
        "id": "zyJWo3ts-ynE",
        "colab_type": "code",
        "outputId": "a33a9267-c5d8-46a9-ada0-4b5a268df428",
        "colab": {
          "base_uri": "https://localhost:8080/",
          "height": 53
        }
      },
      "source": [
        "#create a function to return a list of lemmatized lower case after removing punctuation\n",
        "def lemNormalize(text):\n",
        "  return nltk.word_tokenize(text.lower().translate(remove_punct_dict))\n",
        "\n",
        "print(lemNormalize(text))"
      ],
      "execution_count": 8,
      "outputs": [
        {
          "output_type": "stream",
          "text": [
            "['overview', 'chronic', 'kidney', 'disease', 'also', 'called', 'chronic', 'kidney', 'failure', 'describes', 'the', 'gradual', 'loss', 'of', 'kidney', 'function', 'your', 'kidneys', 'filter', 'wastes', 'and', 'excess', 'fluids', 'from', 'your', 'blood', 'which', 'are', 'then', 'excreted', 'in', 'your', 'urine', 'when', 'chronic', 'kidney', 'disease', 'reaches', 'an', 'advanced', 'stage', 'dangerous', 'levels', 'of', 'fluid', 'electrolytes', 'and', 'wastes', 'can', 'build', 'up', 'in', 'your', 'body', 'in', 'the', 'early', 'stages', 'of', 'chronic', 'kidney', 'disease', 'you', 'may', 'have', 'few', 'signs', 'or', 'symptoms', 'chronic', 'kidney', 'disease', 'may', 'not', 'become', 'apparent', 'until', 'your', 'kidney', 'function', 'is', 'significantly', 'impaired', 'treatment', 'for', 'chronic', 'kidney', 'disease', 'focuses', 'on', 'slowing', 'the', 'progression', 'of', 'the', 'kidney', 'damage', 'usually', 'by', 'controlling', 'the', 'underlying', 'cause', 'chronic', 'kidney', 'disease', 'can', 'progress', 'to', 'endstage', 'kidney', 'failure', 'which', 'is', 'fatal', 'without', 'artificial', 'filtering', 'dialysis', 'or', 'a', 'kidney', 'transplant', 'chronic', 'kidney', 'disease', 'care', 'at', 'mayo', 'clinic', 'how', 'kidneys', 'work', 'symptoms', 'signs', 'and', 'symptoms', 'of', 'chronic', 'kidney', 'disease', 'develop', 'over', 'time', 'if', 'kidney', 'damage', 'progresses', 'slowly', 'signs', 'and', 'symptoms', 'of', 'kidney', 'disease', 'may', 'include', 'nausea', 'vomiting', 'loss', 'of', 'appetite', 'fatigue', 'and', 'weakness', 'sleep', 'problems', 'changes', 'in', 'how', 'much', 'you', 'urinate', 'decreased', 'mental', 'sharpness', 'muscle', 'twitches', 'and', 'cramps', 'swelling', 'of', 'feet', 'and', 'ankles', 'persistent', 'itching', 'chest', 'pain', 'if', 'fluid', 'builds', 'up', 'around', 'the', 'lining', 'of', 'the', 'heart', 'shortness', 'of', 'breath', 'if', 'fluid', 'builds', 'up', 'in', 'the', 'lungs', 'high', 'blood', 'pressure', 'hypertension', 'thats', 'difficult', 'to', 'control', 'signs', 'and', 'symptoms', 'of', 'kidney', 'disease', 'are', 'often', 'nonspecific', 'meaning', 'they', 'can', 'also', 'be', 'caused', 'by', 'other', 'illnesses', 'because', 'your', 'kidneys', 'are', 'highly', 'adaptable', 'and', 'able', 'to', 'compensate', 'for', 'lost', 'function', 'signs', 'and', 'symptoms', 'may', 'not', 'appear', 'until', 'irreversible', 'damage', 'has', 'occurred', 'when', 'to', 'see', 'a', 'doctor', 'make', 'an', 'appointment', 'with', 'your', 'doctor', 'if', 'you', 'have', 'any', 'signs', 'or', 'symptoms', 'of', 'kidney', 'disease', 'if', 'you', 'have', 'a', 'medical', 'condition', 'that', 'increases', 'your', 'risk', 'of', 'kidney', 'disease', 'your', 'doctor', 'is', 'likely', 'to', 'monitor', 'your', 'blood', 'pressure', 'and', 'kidney', 'function', 'with', 'urine', 'and', 'blood', 'tests', 'during', 'regular', 'office', 'visits', 'ask', 'your', 'doctor', 'whether', 'these', 'tests', 'are', 'necessary', 'for', 'you', 'causes', 'normal', 'kidney', 'vs', 'diseased', 'kidney', 'open', 'popup', 'dialog', 'box', 'close', 'normal', 'kidney', 'vs', 'diseased', 'kidney', 'normal', 'kidney', 'vs', 'diseased', 'kidney', 'a', 'normal', 'kidney', 'has', 'about', '1', 'million', 'filtering', 'units', 'each', 'unit', 'called', 'a', 'glomerulus', 'connects', 'to', 'a', 'tubule', 'which', 'collects', 'urine', 'conditions', 'such', 'as', 'high', 'blood', 'pressure', 'and', 'diabetes', 'take', 'a', 'toll', 'on', 'kidney', 'function', 'by', 'damaging', 'these', 'filtering', 'units', 'and', 'collecting', 'tubules', 'and', 'causing', 'scarring', 'polycystic', 'kidney', 'open', 'popup', 'dialog', 'box', 'close', 'polycystic', 'kidney', 'polycystic', 'kidney', 'a', 'healthy', 'kidney', 'left', 'eliminates', 'waste', 'from', 'the', 'blood', 'and', 'maintains', 'the', 'bodys', 'normal', 'chemical', 'balance', 'fluidfilled', 'sacs', 'right', 'called', 'cysts', 'characterize', 'polycystic', 'kidney', 'disease', 'chronic', 'kidney', 'disease', 'occurs', 'when', 'a', 'disease', 'or', 'condition', 'impairs', 'kidney', 'function', 'causing', 'kidney', 'damage', 'to', 'worsen', 'over', 'several', 'months', 'or', 'years', 'diseases', 'and', 'conditions', 'that', 'cause', 'chronic', 'kidney', 'disease', 'include', 'type', '1', 'or', 'type', '2', 'diabetes', 'high', 'blood', 'pressure', 'glomerulonephritis', 'gloemerulownuhfrytis', 'an', 'inflammation', 'of', 'the', 'kidneys', 'filtering', 'units', 'glomeruli', 'interstitial', 'nephritis', 'inturstishul', 'nuhfrytis', 'an', 'inflammation', 'of', 'the', 'kidneys', 'tubules', 'and', 'surrounding', 'structures', 'polycystic', 'kidney', 'disease', 'prolonged', 'obstruction', 'of', 'the', 'urinary', 'tract', 'from', 'conditions', 'such', 'as', 'enlarged', 'prostate', 'kidney', 'stones', 'and', 'some', 'cancers', 'vesicoureteral', 'vesihkoeyooreeturul', 'reflux', 'a', 'condition', 'that', 'causes', 'urine', 'to', 'back', 'up', 'into', 'your', 'kidneys', 'recurrent', 'kidney', 'infection', 'also', 'called', 'pyelonephritis', 'pieuhlownuhfrytis', 'risk', 'factors', 'factors', 'that', 'may', 'increase', 'your', 'risk', 'of', 'chronic', 'kidney', 'disease', 'include', 'diabetes', 'high', 'blood', 'pressure', 'heart', 'and', 'blood', 'vessel', 'cardiovascular', 'disease', 'smoking', 'obesity', 'being', 'africanamerican', 'native', 'american', 'or', 'asianamerican', 'family', 'history', 'of', 'kidney', 'disease', 'abnormal', 'kidney', 'structure', 'older', 'age', 'complications', 'chronic', 'kidney', 'disease', 'can', 'affect', 'almost', 'every', 'part', 'of', 'your', 'body', 'potential', 'complications', 'may', 'include', 'fluid', 'retention', 'which', 'could', 'lead', 'to', 'swelling', 'in', 'your', 'arms', 'and', 'legs', 'high', 'blood', 'pressure', 'or', 'fluid', 'in', 'your', 'lungs', 'pulmonary', 'edema', 'a', 'sudden', 'rise', 'in', 'potassium', 'levels', 'in', 'your', 'blood', 'hyperkalemia', 'which', 'could', 'impair', 'your', 'hearts', 'ability', 'to', 'function', 'and', 'may', 'be', 'lifethreatening', 'heart', 'and', 'blood', 'vessel', 'cardiovascular', 'disease', 'weak', 'bones', 'and', 'an', 'increased', 'risk', 'of', 'bone', 'fractures', 'anemia', 'decreased', 'sex', 'drive', 'erectile', 'dysfunction', 'or', 'reduced', 'fertility', 'damage', 'to', 'your', 'central', 'nervous', 'system', 'which', 'can', 'cause', 'difficulty', 'concentrating', 'personality', 'changes', 'or', 'seizures', 'decreased', 'immune', 'response', 'which', 'makes', 'you', 'more', 'vulnerable', 'to', 'infection', 'pericarditis', 'an', 'inflammation', 'of', 'the', 'saclike', 'membrane', 'that', 'envelops', 'your', 'heart', 'pericardium', 'pregnancy', 'complications', 'that', 'carry', 'risks', 'for', 'the', 'mother', 'and', 'the', 'developing', 'fetus', 'irreversible', 'damage', 'to', 'your', 'kidneys', 'endstage', 'kidney', 'disease', 'eventually', 'requiring', 'either', 'dialysis', 'or', 'a', 'kidney', 'transplant', 'for', 'survival', 'prevention', 'to', 'reduce', 'your', 'risk', 'of', 'developing', 'kidney', 'disease']\n"
          ],
          "name": "stdout"
        }
      ]
    },
    {
      "cell_type": "code",
      "metadata": {
        "id": "lhV2YMETApxo",
        "colab_type": "code",
        "colab": {}
      },
      "source": [
        "#keyword matching\n",
        "#greeting input\n",
        "Greeting_input= ['hi','hello', 'hola', 'greeting','wassup', 'hey','hie']\n",
        "#Greeting response  back to the user\n",
        "Greeting_responces=['howdy', 'hi','hie', \"what's up\", 'hey there','Hello']\n",
        "#Function to return a random greeting response\n",
        "def greeting(sentence):\n",
        "  #if an user input is  greeting we want to return a randomly choosen greeting responce\n",
        "  for word in sentence.split():\n",
        "    if word.lower() in Greeting_input:\n",
        "      return random.choice(Greeting_responces)\n",
        "\n"
      ],
      "execution_count": 0,
      "outputs": []
    },
    {
      "cell_type": "code",
      "metadata": {
        "id": "9UcAfMlmKM0A",
        "colab_type": "code",
        "outputId": "8880af2b-89af-42b9-dad2-1a1bc14f32db",
        "colab": {
          "base_uri": "https://localhost:8080/",
          "height": 195
        }
      },
      "source": [
        "#Generate response\n",
        "def response(user_response):\n",
        "  #The users response or greeting\n",
        "  #user_response= 'What is chronic kidney disease'\n",
        "  user_response= user_response.lower() # making the response lower \n",
        "  #print(user_response)\n",
        "  #set the chatbpot response \n",
        "  robo_response= ''\n",
        "\n",
        "  #Append the user resoponse to the sentense list \n",
        "  sent_token.append(user_response)\n",
        "\n",
        "  #print(sent_token)\n",
        "  #Create a TfidfVectorizer object\n",
        "  TfidfVec = TfidfVectorizer(tokenizer=lemNormalize, stop_words='english')\n",
        "\n",
        "  #convert the text to matrix of TF-IDF feature \n",
        "  tfidf= TfidfVec.fit_transform(sent_token)\n",
        "  #print(tfidf)\n",
        "\n",
        "  #gwet the measure of similarity score\n",
        "  vals= cosine_similarity(tfidf[-1], tfidf)\n",
        "  #print(vals)\n",
        "  #get the index of  the most similar/sentense to the user response\n",
        "  idx= vals.argsort()[0][-2]\n",
        "\n",
        "  #reduce the  dimentionality of the vals\n",
        "  flat= vals.flatten()\n",
        "\n",
        "  #sort the lsit in ascending order\n",
        "  flat.sort()\n",
        "\n",
        "  #Get the most similar score to the user responses\n",
        "  score= flat[-2]\n",
        "\n",
        "  #If the ariable score is zero then there is no text similar to user response \n",
        "  if(score== 0):\n",
        "    robo_response= robo_response+\"I apolosize, I dont understand.\"\n",
        "  else:\n",
        "    robo_response= robo_response+sent_token[idx]\n",
        "\n",
        "  #print(robo_response)\n",
        "  sent_token.remove(user_response)\n",
        "  return robo_response\n",
        "\n",
        "print(robo_response)"
      ],
      "execution_count": 10,
      "outputs": [
        {
          "output_type": "error",
          "ename": "NameError",
          "evalue": "ignored",
          "traceback": [
            "\u001b[0;31m---------------------------------------------------------------------------\u001b[0m",
            "\u001b[0;31mNameError\u001b[0m                                 Traceback (most recent call last)",
            "\u001b[0;32m<ipython-input-10-392c4eee958d>\u001b[0m in \u001b[0;36m<module>\u001b[0;34m()\u001b[0m\n\u001b[1;32m     43\u001b[0m   \u001b[0;32mreturn\u001b[0m \u001b[0mrobo_response\u001b[0m\u001b[0;34m\u001b[0m\u001b[0;34m\u001b[0m\u001b[0m\n\u001b[1;32m     44\u001b[0m \u001b[0;34m\u001b[0m\u001b[0m\n\u001b[0;32m---> 45\u001b[0;31m \u001b[0mprint\u001b[0m\u001b[0;34m(\u001b[0m\u001b[0mrobo_response\u001b[0m\u001b[0;34m)\u001b[0m\u001b[0;34m\u001b[0m\u001b[0;34m\u001b[0m\u001b[0m\n\u001b[0m",
            "\u001b[0;31mNameError\u001b[0m: name 'robo_response' is not defined"
          ]
        }
      ]
    },
    {
      "cell_type": "code",
      "metadata": {
        "id": "GY3rqqrMigCN",
        "colab_type": "code",
        "colab": {}
      },
      "source": [
        "flag= True\n",
        "print(\"DOCBot: I am a doctor bot or DOCBot for short.I will answer all your question abput the chromnic kidney Disease.If you want to exit type BYe!\")\n",
        "while(flag== True):\n",
        "  user_response=input()\n",
        "  user_response= user_response.lower()\n",
        "  if(user_response != 'bye'):\n",
        "    if(user_response== 'thanks' or user_response== 'thank you'):\n",
        "      flag= False\n",
        "      print('DOCBot: You are welcome!')\n",
        "    else:\n",
        "      if(greeting(user_response)!= None):\n",
        "        print('DOCBot:'+greeting(user_response))\n",
        "      else:\n",
        "        print(\"DOCBot: \"+response(user_response))\n",
        "  else:\n",
        "    flag= False\n",
        "    print('DOCBot: Chat with you later.')\n"
      ],
      "execution_count": 0,
      "outputs": []
    },
    {
      "cell_type": "code",
      "metadata": {
        "id": "cOXeZTkb8roO",
        "colab_type": "code",
        "colab": {}
      },
      "source": [
        ""
      ],
      "execution_count": 0,
      "outputs": []
    }
  ]
}